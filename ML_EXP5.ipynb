{
  "nbformat": 4,
  "nbformat_minor": 0,
  "metadata": {
    "colab": {
      "provenance": [],
      "authorship_tag": "ABX9TyMCcgPiu56abfEFCVublZPq",
      "include_colab_link": true
    },
    "kernelspec": {
      "name": "python3",
      "display_name": "Python 3"
    },
    "language_info": {
      "name": "python"
    }
  },
  "cells": [
    {
      "cell_type": "markdown",
      "metadata": {
        "id": "view-in-github",
        "colab_type": "text"
      },
      "source": [
        "<a href=\"https://colab.research.google.com/github/KHUSH445/ML_LAB/blob/main/cross_validation_bias_variance.ipynb\" target=\"_parent\"><img src=\"https://colab.research.google.com/assets/colab-badge.svg\" alt=\"Open In Colab\"/></a>"
      ]
    },
    {
      "cell_type": "code",
      "execution_count": null,
      "metadata": {
        "colab": {
          "base_uri": "https://localhost:8080/",
          "height": 73
        },
        "id": "1GMNUHyxZb3J",
        "outputId": "daa52e79-a358-4d43-f92e-5c7684665224"
      },
      "outputs": [
        {
          "output_type": "display_data",
          "data": {
            "text/plain": [
              "<IPython.core.display.HTML object>"
            ],
            "text/html": [
              "\n",
              "     <input type=\"file\" id=\"files-68cd5a4c-d792-4147-8b1a-7386dc48d69a\" name=\"files[]\" multiple disabled\n",
              "        style=\"border:none\" />\n",
              "     <output id=\"result-68cd5a4c-d792-4147-8b1a-7386dc48d69a\">\n",
              "      Upload widget is only available when the cell has been executed in the\n",
              "      current browser session. Please rerun this cell to enable.\n",
              "      </output>\n",
              "      <script>// Copyright 2017 Google LLC\n",
              "//\n",
              "// Licensed under the Apache License, Version 2.0 (the \"License\");\n",
              "// you may not use this file except in compliance with the License.\n",
              "// You may obtain a copy of the License at\n",
              "//\n",
              "//      http://www.apache.org/licenses/LICENSE-2.0\n",
              "//\n",
              "// Unless required by applicable law or agreed to in writing, software\n",
              "// distributed under the License is distributed on an \"AS IS\" BASIS,\n",
              "// WITHOUT WARRANTIES OR CONDITIONS OF ANY KIND, either express or implied.\n",
              "// See the License for the specific language governing permissions and\n",
              "// limitations under the License.\n",
              "\n",
              "/**\n",
              " * @fileoverview Helpers for google.colab Python module.\n",
              " */\n",
              "(function(scope) {\n",
              "function span(text, styleAttributes = {}) {\n",
              "  const element = document.createElement('span');\n",
              "  element.textContent = text;\n",
              "  for (const key of Object.keys(styleAttributes)) {\n",
              "    element.style[key] = styleAttributes[key];\n",
              "  }\n",
              "  return element;\n",
              "}\n",
              "\n",
              "// Max number of bytes which will be uploaded at a time.\n",
              "const MAX_PAYLOAD_SIZE = 100 * 1024;\n",
              "\n",
              "function _uploadFiles(inputId, outputId) {\n",
              "  const steps = uploadFilesStep(inputId, outputId);\n",
              "  const outputElement = document.getElementById(outputId);\n",
              "  // Cache steps on the outputElement to make it available for the next call\n",
              "  // to uploadFilesContinue from Python.\n",
              "  outputElement.steps = steps;\n",
              "\n",
              "  return _uploadFilesContinue(outputId);\n",
              "}\n",
              "\n",
              "// This is roughly an async generator (not supported in the browser yet),\n",
              "// where there are multiple asynchronous steps and the Python side is going\n",
              "// to poll for completion of each step.\n",
              "// This uses a Promise to block the python side on completion of each step,\n",
              "// then passes the result of the previous step as the input to the next step.\n",
              "function _uploadFilesContinue(outputId) {\n",
              "  const outputElement = document.getElementById(outputId);\n",
              "  const steps = outputElement.steps;\n",
              "\n",
              "  const next = steps.next(outputElement.lastPromiseValue);\n",
              "  return Promise.resolve(next.value.promise).then((value) => {\n",
              "    // Cache the last promise value to make it available to the next\n",
              "    // step of the generator.\n",
              "    outputElement.lastPromiseValue = value;\n",
              "    return next.value.response;\n",
              "  });\n",
              "}\n",
              "\n",
              "/**\n",
              " * Generator function which is called between each async step of the upload\n",
              " * process.\n",
              " * @param {string} inputId Element ID of the input file picker element.\n",
              " * @param {string} outputId Element ID of the output display.\n",
              " * @return {!Iterable<!Object>} Iterable of next steps.\n",
              " */\n",
              "function* uploadFilesStep(inputId, outputId) {\n",
              "  const inputElement = document.getElementById(inputId);\n",
              "  inputElement.disabled = false;\n",
              "\n",
              "  const outputElement = document.getElementById(outputId);\n",
              "  outputElement.innerHTML = '';\n",
              "\n",
              "  const pickedPromise = new Promise((resolve) => {\n",
              "    inputElement.addEventListener('change', (e) => {\n",
              "      resolve(e.target.files);\n",
              "    });\n",
              "  });\n",
              "\n",
              "  const cancel = document.createElement('button');\n",
              "  inputElement.parentElement.appendChild(cancel);\n",
              "  cancel.textContent = 'Cancel upload';\n",
              "  const cancelPromise = new Promise((resolve) => {\n",
              "    cancel.onclick = () => {\n",
              "      resolve(null);\n",
              "    };\n",
              "  });\n",
              "\n",
              "  // Wait for the user to pick the files.\n",
              "  const files = yield {\n",
              "    promise: Promise.race([pickedPromise, cancelPromise]),\n",
              "    response: {\n",
              "      action: 'starting',\n",
              "    }\n",
              "  };\n",
              "\n",
              "  cancel.remove();\n",
              "\n",
              "  // Disable the input element since further picks are not allowed.\n",
              "  inputElement.disabled = true;\n",
              "\n",
              "  if (!files) {\n",
              "    return {\n",
              "      response: {\n",
              "        action: 'complete',\n",
              "      }\n",
              "    };\n",
              "  }\n",
              "\n",
              "  for (const file of files) {\n",
              "    const li = document.createElement('li');\n",
              "    li.append(span(file.name, {fontWeight: 'bold'}));\n",
              "    li.append(span(\n",
              "        `(${file.type || 'n/a'}) - ${file.size} bytes, ` +\n",
              "        `last modified: ${\n",
              "            file.lastModifiedDate ? file.lastModifiedDate.toLocaleDateString() :\n",
              "                                    'n/a'} - `));\n",
              "    const percent = span('0% done');\n",
              "    li.appendChild(percent);\n",
              "\n",
              "    outputElement.appendChild(li);\n",
              "\n",
              "    const fileDataPromise = new Promise((resolve) => {\n",
              "      const reader = new FileReader();\n",
              "      reader.onload = (e) => {\n",
              "        resolve(e.target.result);\n",
              "      };\n",
              "      reader.readAsArrayBuffer(file);\n",
              "    });\n",
              "    // Wait for the data to be ready.\n",
              "    let fileData = yield {\n",
              "      promise: fileDataPromise,\n",
              "      response: {\n",
              "        action: 'continue',\n",
              "      }\n",
              "    };\n",
              "\n",
              "    // Use a chunked sending to avoid message size limits. See b/62115660.\n",
              "    let position = 0;\n",
              "    do {\n",
              "      const length = Math.min(fileData.byteLength - position, MAX_PAYLOAD_SIZE);\n",
              "      const chunk = new Uint8Array(fileData, position, length);\n",
              "      position += length;\n",
              "\n",
              "      const base64 = btoa(String.fromCharCode.apply(null, chunk));\n",
              "      yield {\n",
              "        response: {\n",
              "          action: 'append',\n",
              "          file: file.name,\n",
              "          data: base64,\n",
              "        },\n",
              "      };\n",
              "\n",
              "      let percentDone = fileData.byteLength === 0 ?\n",
              "          100 :\n",
              "          Math.round((position / fileData.byteLength) * 100);\n",
              "      percent.textContent = `${percentDone}% done`;\n",
              "\n",
              "    } while (position < fileData.byteLength);\n",
              "  }\n",
              "\n",
              "  // All done.\n",
              "  yield {\n",
              "    response: {\n",
              "      action: 'complete',\n",
              "    }\n",
              "  };\n",
              "}\n",
              "\n",
              "scope.google = scope.google || {};\n",
              "scope.google.colab = scope.google.colab || {};\n",
              "scope.google.colab._files = {\n",
              "  _uploadFiles,\n",
              "  _uploadFilesContinue,\n",
              "};\n",
              "})(self);\n",
              "</script> "
            ]
          },
          "metadata": {}
        },
        {
          "output_type": "stream",
          "name": "stdout",
          "text": [
            "Saving heart.csv to heart.csv\n"
          ]
        }
      ],
      "source": [
        "from google.colab import files\n",
        "uploaded = files.upload()"
      ]
    },
    {
      "cell_type": "code",
      "source": [
        "import pandas as pd\n",
        "import numpy as np\n",
        "from sklearn.model_selection import train_test_split\n",
        "from sklearn.preprocessing import StandardScaler\n",
        "\n",
        "# Load dataset (adjust path)\n",
        "df = pd.read_csv(\"heart.csv\")  # or the CSV you downloaded from Kaggle\n",
        "\n",
        "# Basic inspection\n",
        "print(df.head())\n",
        "print(df.info())\n",
        "print(df['target'].value_counts())  # target column (0 or 1) :contentReference[oaicite:4]{index=4}\n",
        "\n",
        "# Separate features & target\n",
        "X = df.drop(columns=['target'])\n",
        "y = df['target'].values\n",
        "\n",
        "# handle categorical features or missing values (if any)\n",
        "X = pd.get_dummies(X, drop_first=True)\n",
        "X.fillna(X.mean(), inplace=True)\n",
        "\n",
        "# Convert to numpy (if required)\n",
        "X = X.values.astype(float)\n",
        "y = y.astype(int)"
      ],
      "metadata": {
        "colab": {
          "base_uri": "https://localhost:8080/"
        },
        "id": "yv3IOrVncEId",
        "outputId": "e8b9c7f4-05c8-4c95-aa56-e74acbb1676e"
      },
      "execution_count": null,
      "outputs": [
        {
          "output_type": "stream",
          "name": "stdout",
          "text": [
            "   age  sex  cp  trestbps  chol  fbs  restecg  thalach  exang  oldpeak  slope  \\\n",
            "0   52    1   0       125   212    0        1      168      0      1.0      2   \n",
            "1   53    1   0       140   203    1        0      155      1      3.1      0   \n",
            "2   70    1   0       145   174    0        1      125      1      2.6      0   \n",
            "3   61    1   0       148   203    0        1      161      0      0.0      2   \n",
            "4   62    0   0       138   294    1        1      106      0      1.9      1   \n",
            "\n",
            "   ca  thal  target  \n",
            "0   2     3       0  \n",
            "1   0     3       0  \n",
            "2   0     3       0  \n",
            "3   1     3       0  \n",
            "4   3     2       0  \n",
            "<class 'pandas.core.frame.DataFrame'>\n",
            "RangeIndex: 1025 entries, 0 to 1024\n",
            "Data columns (total 14 columns):\n",
            " #   Column    Non-Null Count  Dtype  \n",
            "---  ------    --------------  -----  \n",
            " 0   age       1025 non-null   int64  \n",
            " 1   sex       1025 non-null   int64  \n",
            " 2   cp        1025 non-null   int64  \n",
            " 3   trestbps  1025 non-null   int64  \n",
            " 4   chol      1025 non-null   int64  \n",
            " 5   fbs       1025 non-null   int64  \n",
            " 6   restecg   1025 non-null   int64  \n",
            " 7   thalach   1025 non-null   int64  \n",
            " 8   exang     1025 non-null   int64  \n",
            " 9   oldpeak   1025 non-null   float64\n",
            " 10  slope     1025 non-null   int64  \n",
            " 11  ca        1025 non-null   int64  \n",
            " 12  thal      1025 non-null   int64  \n",
            " 13  target    1025 non-null   int64  \n",
            "dtypes: float64(1), int64(13)\n",
            "memory usage: 112.2 KB\n",
            "None\n",
            "target\n",
            "1    526\n",
            "0    499\n",
            "Name: count, dtype: int64\n"
          ]
        }
      ]
    },
    {
      "cell_type": "code",
      "source": [
        "X_train, X_test, y_train, y_test = train_test_split(\n",
        "    X, y, test_size=0.2, stratify=y, random_state=42\n",
        ")\n",
        "\n",
        "scaler = StandardScaler()\n",
        "X_train_scaled = scaler.fit_transform(X_train)\n",
        "X_test_scaled  = scaler.transform(X_test)"
      ],
      "metadata": {
        "id": "RoqV3IX2cEFE"
      },
      "execution_count": null,
      "outputs": []
    },
    {
      "cell_type": "code",
      "source": [
        "from sklearn.linear_model import LogisticRegression\n",
        "from sklearn.model_selection import cross_val_score, StratifiedKFold\n",
        "\n",
        "model = LogisticRegression(max_iter=1000, random_state=42)\n",
        "\n",
        "# k-fold cross validation\n",
        "k = 5\n",
        "cv = StratifiedKFold(n_splits=k, shuffle=True, random_state=42)\n",
        "scores = cross_val_score(model, X_train_scaled, y_train, cv=cv, scoring='accuracy')\n",
        "\n",
        "print(f\"{k}-fold CV accuracy scores: {scores}\")\n",
        "print(f\"Mean CV accuracy: {scores.mean():.4f}, Std: {scores.std():.4f}\")"
      ],
      "metadata": {
        "colab": {
          "base_uri": "https://localhost:8080/"
        },
        "id": "lCTFd-wucEBQ",
        "outputId": "ae6b400d-6f73-48bc-f39c-183fb14632da"
      },
      "execution_count": null,
      "outputs": [
        {
          "output_type": "stream",
          "name": "stdout",
          "text": [
            "5-fold CV accuracy scores: [0.8597561  0.85365854 0.81097561 0.84146341 0.84756098]\n",
            "Mean CV accuracy: 0.8427, Std: 0.0170\n"
          ]
        }
      ]
    },
    {
      "cell_type": "code",
      "source": [
        "model.fit(X_train_scaled, y_train)\n",
        "y_test_pred = model.predict(X_test_scaled)\n",
        "\n",
        "from sklearn.metrics import accuracy_score, classification_report, confusion_matrix\n",
        "\n",
        "test_acc = accuracy_score(y_test, y_test_pred)\n",
        "print(\"Test set accuracy:\", test_acc)\n",
        "print(classification_report(y_test, y_test_pred))\n",
        "print(\"Confusion matrix:\\n\", confusion_matrix(y_test, y_test_pred))"
      ],
      "metadata": {
        "colab": {
          "base_uri": "https://localhost:8080/"
        },
        "id": "UV3bUksocD5Q",
        "outputId": "c8524786-f248-4dad-8f71-ae9e73fe757e"
      },
      "execution_count": null,
      "outputs": [
        {
          "output_type": "stream",
          "name": "stdout",
          "text": [
            "Test set accuracy: 0.8097560975609757\n",
            "              precision    recall  f1-score   support\n",
            "\n",
            "           0       0.89      0.70      0.78       100\n",
            "           1       0.76      0.91      0.83       105\n",
            "\n",
            "    accuracy                           0.81       205\n",
            "   macro avg       0.82      0.81      0.81       205\n",
            "weighted avg       0.82      0.81      0.81       205\n",
            "\n",
            "Confusion matrix:\n",
            " [[70 30]\n",
            " [ 9 96]]\n"
          ]
        }
      ]
    },
    {
      "cell_type": "code",
      "source": [
        "def bias_variance_estimate(model, X, y, n_rounds=30, test_size=0.2):\n",
        "    from sklearn.model_selection import train_test_split\n",
        "    predictions = []\n",
        "    y_vals = None\n",
        "\n",
        "    for i in range(n_rounds):\n",
        "        X_tr, X_val, y_tr, y_val = train_test_split(\n",
        "            X, y, test_size=test_size, stratify=y\n",
        "        )\n",
        "        scaler = StandardScaler()\n",
        "        X_tr_s = scaler.fit_transform(X_tr)\n",
        "        X_val_s = scaler.transform(X_val)\n",
        "\n",
        "        model_clone = LogisticRegression(max_iter=1000, random_state=42)  # or clone\n",
        "        model_clone.fit(X_tr_s, y_tr)\n",
        "        preds = model_clone.predict(X_val_s)\n",
        "        predictions.append(preds)\n",
        "        y_vals = y_val\n",
        "\n",
        "    predictions = np.array(predictions)  # shape (n_rounds, n_val_samples)\n",
        "    mean_pred = np.mean(predictions, axis=0)  # average predicted class (float)\n",
        "    # Convert mean_pred to binary decision if you like (e.g., >=0.5 → 1)\n",
        "\n",
        "    # Estimate bias: how far average prediction is from true label\n",
        "    bias = np.mean((mean_pred - y_vals) ** 2)\n",
        "\n",
        "    # Estimate variance: average variability of predictions across runs\n",
        "    variance = np.mean(np.var(predictions, axis=0))\n",
        "\n",
        "    error = bias + variance\n",
        "    return bias, variance, error\n",
        "\n",
        "bias, variance, error = bias_variance_estimate(model, X_train_scaled, y_train)\n",
        "print(\"Bias: \", bias)\n",
        "print(\"Variance: \", variance)\n",
        "print(\"Total approx error: \", error)"
      ],
      "metadata": {
        "colab": {
          "base_uri": "https://localhost:8080/"
        },
        "id": "4WahGjCwc7nU",
        "outputId": "b55fa680-8c76-412a-baa9-3b84fd540710"
      },
      "execution_count": null,
      "outputs": [
        {
          "output_type": "stream",
          "name": "stdout",
          "text": [
            "Bias:  0.24502032520325207\n",
            "Variance:  0.23770325203252032\n",
            "Total approx error:  0.4827235772357724\n"
          ]
        }
      ]
    },
    {
      "cell_type": "code",
      "source": [
        "from sklearn.tree import DecisionTreeClassifier\n",
        "\n",
        "for depth in [1, 2, 4, 8, None]:\n",
        "    model = DecisionTreeClassifier(max_depth=depth, random_state=42)\n",
        "    scores = cross_val_score(model, X_train_scaled, y_train, cv=cv, scoring='accuracy')\n",
        "    print(f\"Depth {depth}: CV accuracy {scores.mean():.4f} ± {scores.std():.4f}\")\n",
        "    bias, var, err = bias_variance_estimate(model, X_train_scaled, y_train, n_rounds=20)\n",
        "    print(f\" → bias {bias:.4f}, variance {var:.4f}, error {err:.4f}\\n\")"
      ],
      "metadata": {
        "colab": {
          "base_uri": "https://localhost:8080/"
        },
        "id": "Gzqibsu9dA11",
        "outputId": "95fc3bea-c682-4197-a161-5664a3c82bce"
      },
      "execution_count": null,
      "outputs": [
        {
          "output_type": "stream",
          "name": "stdout",
          "text": [
            "Depth 1: CV accuracy 0.7695 ± 0.0430\n",
            " → bias 0.2479, variance 0.2345, error 0.4823\n",
            "\n",
            "Depth 2: CV accuracy 0.7695 ± 0.0430\n",
            " → bias 0.2452, variance 0.2329, error 0.4780\n",
            "\n",
            "Depth 4: CV accuracy 0.8524 ± 0.0151\n",
            " → bias 0.2555, variance 0.2323, error 0.4878\n",
            "\n",
            "Depth 8: CV accuracy 0.9720 ± 0.0126\n",
            " → bias 0.2523, variance 0.2337, error 0.4860\n",
            "\n",
            "Depth None: CV accuracy 0.9805 ± 0.0124\n",
            " → bias 0.2415, variance 0.2366, error 0.4780\n",
            "\n"
          ]
        }
      ]
    }
  ]
}
