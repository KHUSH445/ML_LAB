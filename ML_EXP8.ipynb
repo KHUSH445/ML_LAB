{
  "nbformat": 4,
  "nbformat_minor": 0,
  "metadata": {
    "colab": {
      "provenance": [],
      "authorship_tag": "ABX9TyMvwbLOFi06HpDbXR3j0Kwe",
      "include_colab_link": true
    },
    "kernelspec": {
      "name": "python3",
      "display_name": "Python 3"
    },
    "language_info": {
      "name": "python"
    }
  },
  "cells": [
    {
      "cell_type": "markdown",
      "metadata": {
        "id": "view-in-github",
        "colab_type": "text"
      },
      "source": [
        "<a href=\"https://colab.research.google.com/github/KHUSH445/ML_LAB/blob/main/MP_neuron.ipynb\" target=\"_parent\"><img src=\"https://colab.research.google.com/assets/colab-badge.svg\" alt=\"Open In Colab\"/></a>"
      ]
    },
    {
      "cell_type": "code",
      "execution_count": null,
      "metadata": {
        "colab": {
          "base_uri": "https://localhost:8080/"
        },
        "id": "-A3oYx8nId8Y",
        "outputId": "7bc850ca-6a2f-4835-c11e-c7ec53b4b4dc"
      },
      "outputs": [
        {
          "output_type": "stream",
          "name": "stdout",
          "text": [
            "x=0, y=0: AND=0, OR=0, NAND=1, NOR=1, XOR=0, XNOR=1\n",
            "x=0, y=1: AND=0, OR=1, NAND=1, NOR=0, XOR=1, XNOR=0\n",
            "x=1, y=0: AND=0, OR=1, NAND=1, NOR=0, XOR=1, XNOR=0\n",
            "x=1, y=1: AND=1, OR=1, NAND=0, NOR=0, XOR=0, XNOR=1\n",
            "NOT 0: 1\n",
            "NOT 1: 0\n"
          ]
        }
      ],
      "source": [
        "def mp_neuron(inputs, theta):\n",
        "    \"\"\"\n",
        "    MP neuron: sums the inputs and compares to threshold theta.\n",
        "    Returns 1 if sum(inputs) >= theta, else 0.\n",
        "    \"\"\"\n",
        "    total = sum(inputs)\n",
        "    if total >= theta:\n",
        "        return 1\n",
        "    else:\n",
        "        return 0\n",
        "\n",
        "# Logic gates using mp_neuron\n",
        "\n",
        "def AND(x, y):\n",
        "    # For AND of two inputs, threshold = 2\n",
        "    return mp_neuron([x, y], theta=2)\n",
        "\n",
        "def OR(x, y):\n",
        "    # For OR of two inputs, threshold = 1\n",
        "    return mp_neuron([x, y], theta=1)\n",
        "\n",
        "def NOT(x):\n",
        "    # NOT is unary; MP neuron’s >= logic won’t directly do NOT.\n",
        "    # So we define NOT as: if x == 0 return 1 else return 0\n",
        "    return 1 if x == 0 else 0\n",
        "\n",
        "def NAND(x, y):\n",
        "    # NAND = NOT(AND(x, y))\n",
        "    return NOT(AND(x, y))\n",
        "\n",
        "def NOR(x, y):\n",
        "    # NOR = NOT(OR(x, y))\n",
        "    return NOT(OR(x, y))\n",
        "\n",
        "def XOR(x, y):\n",
        "    # XOR = (x AND (NOT y)) OR ((NOT x) AND y)\n",
        "    return OR( AND(x, NOT(y)), AND(NOT(x), y) )\n",
        "\n",
        "def XNOR(x, y):\n",
        "    # XNOR = NOT(XOR(x, y))\n",
        "    return NOT(XOR(x, y))\n",
        "\n",
        "# Testing\n",
        "def test_gates():\n",
        "    inputs = [(0,0), (0,1), (1,0), (1,1)]\n",
        "    for x, y in inputs:\n",
        "        print(f\"x={x}, y={y}: AND={AND(x,y)}, OR={OR(x,y)}, NAND={NAND(x,y)}, NOR={NOR(x,y)}, XOR={XOR(x,y)}, XNOR={XNOR(x,y)}\")\n",
        "    # Test NOT\n",
        "    print(\"NOT 0:\", NOT(0))\n",
        "    print(\"NOT 1:\", NOT(1))\n",
        "\n",
        "if __name__ == \"__main__\":\n",
        "    test_gates()\n"
      ]
    }
  ]
}
